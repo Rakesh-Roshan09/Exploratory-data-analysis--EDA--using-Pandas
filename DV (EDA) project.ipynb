{
 "cells": [
  {
   "cell_type": "markdown",
   "id": "22b9c90c",
   "metadata": {},
   "source": [
    "# Virat Kohli's Cricket Performance Insights: A Statistical Overview"
   ]
  },
  {
   "cell_type": "markdown",
   "id": "349de042",
   "metadata": {},
   "source": [
    "Introduction:\n",
    "In an illustrious cricket career spanning 132 matches against 11 different countries, Virat Kohli has left an indelible mark as one of the finest batsmen in the sport. Let's delve into the numbers that define his performance against various teams, venues, batting positions, and more."
   ]
  },
  {
   "cell_type": "markdown",
   "id": "2be490dd",
   "metadata": {},
   "source": [
    "# Loading Required Dataset And Libraries:"
   ]
  },
  {
   "cell_type": "code",
   "execution_count": 308,
   "id": "3ae391e6",
   "metadata": {},
   "outputs": [],
   "source": [
    "import pandas as pd\n",
    "import matplotlib.style\n",
    "import matplotlib.pyplot as plt\n",
    "import seaborn as sns"
   ]
  },
  {
   "cell_type": "code",
   "execution_count": 309,
   "id": "8a4ec52b",
   "metadata": {},
   "outputs": [],
   "source": [
    "data_info=pd.read_csv(\"D:\\\\DataDictionary-Cricket.csv\")"
   ]
  },
  {
   "cell_type": "code",
   "execution_count": 310,
   "id": "c9db4f07",
   "metadata": {},
   "outputs": [
    {
     "data": {
      "text/html": [
       "<div>\n",
       "<style scoped>\n",
       "    .dataframe tbody tr th:only-of-type {\n",
       "        vertical-align: middle;\n",
       "    }\n",
       "\n",
       "    .dataframe tbody tr th {\n",
       "        vertical-align: top;\n",
       "    }\n",
       "\n",
       "    .dataframe thead th {\n",
       "        text-align: right;\n",
       "    }\n",
       "</style>\n",
       "<table border=\"1\" class=\"dataframe\">\n",
       "  <thead>\n",
       "    <tr style=\"text-align: right;\">\n",
       "      <th></th>\n",
       "      <th>Column Name</th>\n",
       "      <th>Description</th>\n",
       "    </tr>\n",
       "  </thead>\n",
       "  <tbody>\n",
       "    <tr>\n",
       "      <th>0</th>\n",
       "      <td>Runs</td>\n",
       "      <td>The number of runs scored by Virat in that par...</td>\n",
       "    </tr>\n",
       "    <tr>\n",
       "      <th>1</th>\n",
       "      <td>Mins</td>\n",
       "      <td>Total time taken by Virat to score the runs. E...</td>\n",
       "    </tr>\n",
       "    <tr>\n",
       "      <th>2</th>\n",
       "      <td>BF</td>\n",
       "      <td>Total number of balls faced by Virat to score ...</td>\n",
       "    </tr>\n",
       "    <tr>\n",
       "      <th>3</th>\n",
       "      <td>4s</td>\n",
       "      <td>Number of fours hit by Virat in that match</td>\n",
       "    </tr>\n",
       "    <tr>\n",
       "      <th>4</th>\n",
       "      <td>6s</td>\n",
       "      <td>Number of sixes hit by Virat in that match</td>\n",
       "    </tr>\n",
       "    <tr>\n",
       "      <th>5</th>\n",
       "      <td>SR</td>\n",
       "      <td>The strike rate of Virat in that match.</td>\n",
       "    </tr>\n",
       "    <tr>\n",
       "      <th>6</th>\n",
       "      <td>Pos</td>\n",
       "      <td>The batting position of Virat in that match.</td>\n",
       "    </tr>\n",
       "    <tr>\n",
       "      <th>7</th>\n",
       "      <td>Dismissal</td>\n",
       "      <td>The mode of dismissal in that match.</td>\n",
       "    </tr>\n",
       "    <tr>\n",
       "      <th>8</th>\n",
       "      <td>Inns</td>\n",
       "      <td>Denotes whether team batted first or batted se...</td>\n",
       "    </tr>\n",
       "    <tr>\n",
       "      <th>9</th>\n",
       "      <td>Opposition</td>\n",
       "      <td>The opposition country against which Virat pla...</td>\n",
       "    </tr>\n",
       "    <tr>\n",
       "      <th>10</th>\n",
       "      <td>Ground</td>\n",
       "      <td>The ground where the match was played.</td>\n",
       "    </tr>\n",
       "    <tr>\n",
       "      <th>11</th>\n",
       "      <td>Start Date</td>\n",
       "      <td>The date when the match was played.</td>\n",
       "    </tr>\n",
       "  </tbody>\n",
       "</table>\n",
       "</div>"
      ],
      "text/plain": [
       "   Column Name                                        Description\n",
       "0         Runs  The number of runs scored by Virat in that par...\n",
       "1         Mins  Total time taken by Virat to score the runs. E...\n",
       "2           BF  Total number of balls faced by Virat to score ...\n",
       "3           4s         Number of fours hit by Virat in that match\n",
       "4           6s         Number of sixes hit by Virat in that match\n",
       "5           SR            The strike rate of Virat in that match.\n",
       "6          Pos       The batting position of Virat in that match.\n",
       "7    Dismissal               The mode of dismissal in that match.\n",
       "8         Inns  Denotes whether team batted first or batted se...\n",
       "9   Opposition  The opposition country against which Virat pla...\n",
       "10      Ground             The ground where the match was played.\n",
       "11  Start Date                The date when the match was played."
      ]
     },
     "execution_count": 310,
     "metadata": {},
     "output_type": "execute_result"
    }
   ],
   "source": [
    "data_info"
   ]
  },
  {
   "cell_type": "code",
   "execution_count": 311,
   "id": "c5762aca",
   "metadata": {},
   "outputs": [],
   "source": [
    "df=pd.read_csv(\"D:\\\\Virat_Kohli_ODI.csv\")"
   ]
  },
  {
   "cell_type": "code",
   "execution_count": 341,
   "id": "030be2e8",
   "metadata": {},
   "outputs": [
    {
     "data": {
      "text/html": [
       "<div>\n",
       "<style scoped>\n",
       "    .dataframe tbody tr th:only-of-type {\n",
       "        vertical-align: middle;\n",
       "    }\n",
       "\n",
       "    .dataframe tbody tr th {\n",
       "        vertical-align: top;\n",
       "    }\n",
       "\n",
       "    .dataframe thead th {\n",
       "        text-align: right;\n",
       "    }\n",
       "</style>\n",
       "<table border=\"1\" class=\"dataframe\">\n",
       "  <thead>\n",
       "    <tr style=\"text-align: right;\">\n",
       "      <th></th>\n",
       "      <th>Runs</th>\n",
       "      <th>Mins</th>\n",
       "      <th>BF</th>\n",
       "      <th>4s</th>\n",
       "      <th>6s</th>\n",
       "      <th>SR</th>\n",
       "      <th>Pos</th>\n",
       "      <th>Dismissal</th>\n",
       "      <th>Inns</th>\n",
       "      <th>Opposition</th>\n",
       "      <th>Ground</th>\n",
       "      <th>Start Date</th>\n",
       "      <th>Boundaries_count</th>\n",
       "      <th>Boundary_runs</th>\n",
       "      <th>Balls_per_Boundary</th>\n",
       "    </tr>\n",
       "  </thead>\n",
       "  <tbody>\n",
       "    <tr>\n",
       "      <th>0</th>\n",
       "      <td>12</td>\n",
       "      <td>33</td>\n",
       "      <td>22</td>\n",
       "      <td>1</td>\n",
       "      <td>0</td>\n",
       "      <td>54.54</td>\n",
       "      <td>2</td>\n",
       "      <td>lbw</td>\n",
       "      <td>1</td>\n",
       "      <td>v Sri Lanka</td>\n",
       "      <td>Dambulla</td>\n",
       "      <td>2008-08-18</td>\n",
       "      <td>1</td>\n",
       "      <td>4</td>\n",
       "      <td>22.000000</td>\n",
       "    </tr>\n",
       "    <tr>\n",
       "      <th>1</th>\n",
       "      <td>37</td>\n",
       "      <td>82</td>\n",
       "      <td>67</td>\n",
       "      <td>6</td>\n",
       "      <td>0</td>\n",
       "      <td>55.22</td>\n",
       "      <td>2</td>\n",
       "      <td>caught</td>\n",
       "      <td>2</td>\n",
       "      <td>v Sri Lanka</td>\n",
       "      <td>Dambulla</td>\n",
       "      <td>2008-08-20</td>\n",
       "      <td>6</td>\n",
       "      <td>24</td>\n",
       "      <td>11.166667</td>\n",
       "    </tr>\n",
       "    <tr>\n",
       "      <th>2</th>\n",
       "      <td>25</td>\n",
       "      <td>40</td>\n",
       "      <td>38</td>\n",
       "      <td>4</td>\n",
       "      <td>0</td>\n",
       "      <td>65.78</td>\n",
       "      <td>1</td>\n",
       "      <td>run out</td>\n",
       "      <td>1</td>\n",
       "      <td>v Sri Lanka</td>\n",
       "      <td>Colombo (RPS)</td>\n",
       "      <td>2008-08-24</td>\n",
       "      <td>4</td>\n",
       "      <td>16</td>\n",
       "      <td>9.500000</td>\n",
       "    </tr>\n",
       "    <tr>\n",
       "      <th>3</th>\n",
       "      <td>54</td>\n",
       "      <td>87</td>\n",
       "      <td>66</td>\n",
       "      <td>7</td>\n",
       "      <td>0</td>\n",
       "      <td>81.81</td>\n",
       "      <td>1</td>\n",
       "      <td>bowled</td>\n",
       "      <td>1</td>\n",
       "      <td>v Sri Lanka</td>\n",
       "      <td>Colombo (RPS)</td>\n",
       "      <td>2008-08-27</td>\n",
       "      <td>7</td>\n",
       "      <td>28</td>\n",
       "      <td>9.428571</td>\n",
       "    </tr>\n",
       "    <tr>\n",
       "      <th>4</th>\n",
       "      <td>31</td>\n",
       "      <td>45</td>\n",
       "      <td>46</td>\n",
       "      <td>3</td>\n",
       "      <td>1</td>\n",
       "      <td>67.39</td>\n",
       "      <td>1</td>\n",
       "      <td>lbw</td>\n",
       "      <td>2</td>\n",
       "      <td>v Sri Lanka</td>\n",
       "      <td>Colombo (RPS)</td>\n",
       "      <td>2008-08-29</td>\n",
       "      <td>4</td>\n",
       "      <td>18</td>\n",
       "      <td>11.500000</td>\n",
       "    </tr>\n",
       "  </tbody>\n",
       "</table>\n",
       "</div>"
      ],
      "text/plain": [
       "   Runs Mins  BF  4s  6s     SR  Pos Dismissal  Inns   Opposition  \\\n",
       "0    12   33  22   1   0  54.54    2       lbw     1  v Sri Lanka   \n",
       "1    37   82  67   6   0  55.22    2    caught     2  v Sri Lanka   \n",
       "2    25   40  38   4   0  65.78    1   run out     1  v Sri Lanka   \n",
       "3    54   87  66   7   0  81.81    1    bowled     1  v Sri Lanka   \n",
       "4    31   45  46   3   1  67.39    1       lbw     2  v Sri Lanka   \n",
       "\n",
       "          Ground Start Date  Boundaries_count  Boundary_runs  \\\n",
       "0       Dambulla 2008-08-18                 1              4   \n",
       "1       Dambulla 2008-08-20                 6             24   \n",
       "2  Colombo (RPS) 2008-08-24                 4             16   \n",
       "3  Colombo (RPS) 2008-08-27                 7             28   \n",
       "4  Colombo (RPS) 2008-08-29                 4             18   \n",
       "\n",
       "   Balls_per_Boundary  \n",
       "0           22.000000  \n",
       "1           11.166667  \n",
       "2            9.500000  \n",
       "3            9.428571  \n",
       "4           11.500000  "
      ]
     },
     "execution_count": 341,
     "metadata": {},
     "output_type": "execute_result"
    }
   ],
   "source": [
    "df.head()"
   ]
  },
  {
   "cell_type": "markdown",
   "id": "173f7f14",
   "metadata": {},
   "source": [
    "# Exploring the Dataset"
   ]
  },
  {
   "cell_type": "code",
   "execution_count": 313,
   "id": "9d5023e8",
   "metadata": {},
   "outputs": [
    {
     "name": "stdout",
     "output_type": "stream",
     "text": [
      "<class 'pandas.core.frame.DataFrame'>\n",
      "RangeIndex: 132 entries, 0 to 131\n",
      "Data columns (total 12 columns):\n",
      " #   Column      Non-Null Count  Dtype \n",
      "---  ------      --------------  ----- \n",
      " 0   Runs        132 non-null    object\n",
      " 1   Mins        132 non-null    object\n",
      " 2   BF          132 non-null    int64 \n",
      " 3   4s          132 non-null    int64 \n",
      " 4   6s          132 non-null    int64 \n",
      " 5   SR          132 non-null    object\n",
      " 6   Pos         132 non-null    int64 \n",
      " 7   Dismissal   132 non-null    object\n",
      " 8   Inns        132 non-null    int64 \n",
      " 9   Opposition  132 non-null    object\n",
      " 10  Ground      132 non-null    object\n",
      " 11  Start Date  132 non-null    object\n",
      "dtypes: int64(5), object(7)\n",
      "memory usage: 12.5+ KB\n"
     ]
    }
   ],
   "source": [
    "df.info()"
   ]
  },
  {
   "cell_type": "markdown",
   "id": "4fc60b3b",
   "metadata": {},
   "source": [
    "# Converting Datatypes"
   ]
  },
  {
   "cell_type": "code",
   "execution_count": 314,
   "id": "218a1323",
   "metadata": {},
   "outputs": [
    {
     "name": "stderr",
     "output_type": "stream",
     "text": [
      "C:\\Users\\91778\\AppData\\Local\\Temp\\ipykernel_8200\\1803359325.py:1: FutureWarning: The default value of regex will change from True to False in a future version. In addition, single character regular expressions will *not* be treated as literal strings when regex=True.\n",
      "  df[\"Runs\"] = df[\"Runs\"].str.replace(\"*\", '')\n"
     ]
    },
    {
     "data": {
      "text/plain": [
       "0       12\n",
       "1       37\n",
       "2       25\n",
       "3       54\n",
       "4       31\n",
       "      ... \n",
       "127     45\n",
       "128     65\n",
       "129    122\n",
       "130      8\n",
       "131     55\n",
       "Name: Runs, Length: 132, dtype: object"
      ]
     },
     "execution_count": 314,
     "metadata": {},
     "output_type": "execute_result"
    }
   ],
   "source": [
    "df[\"Runs\"] = df[\"Runs\"].str.replace(\"*\", '')\n",
    "df[\"Runs\"]"
   ]
  },
  {
   "cell_type": "code",
   "execution_count": 315,
   "id": "a73e7c76",
   "metadata": {},
   "outputs": [],
   "source": [
    "df[\"Runs\"] = df[\"Runs\"].astype(int)"
   ]
  },
  {
   "cell_type": "code",
   "execution_count": 316,
   "id": "321a954b",
   "metadata": {},
   "outputs": [],
   "source": [
    "df['SR'] = df['SR'].replace('-', ).astype(float)"
   ]
  },
  {
   "cell_type": "code",
   "execution_count": 317,
   "id": "e1925f2d",
   "metadata": {},
   "outputs": [],
   "source": [
    "df['Start Date'] = pd.to_datetime(df['Start Date'])"
   ]
  },
  {
   "cell_type": "code",
   "execution_count": 318,
   "id": "99bebbec",
   "metadata": {},
   "outputs": [
    {
     "data": {
      "text/plain": [
       "Runs                   int32\n",
       "Mins                  object\n",
       "BF                     int64\n",
       "4s                     int64\n",
       "6s                     int64\n",
       "SR                   float64\n",
       "Pos                    int64\n",
       "Dismissal             object\n",
       "Inns                   int64\n",
       "Opposition            object\n",
       "Ground                object\n",
       "Start Date    datetime64[ns]\n",
       "dtype: object"
      ]
     },
     "execution_count": 318,
     "metadata": {},
     "output_type": "execute_result"
    }
   ],
   "source": [
    "df.dtypes"
   ]
  },
  {
   "cell_type": "markdown",
   "id": "b9fbd9af",
   "metadata": {},
   "source": [
    "# Analyzing Performance"
   ]
  },
  {
   "cell_type": "code",
   "execution_count": 319,
   "id": "2a476496",
   "metadata": {},
   "outputs": [
    {
     "data": {
      "text/plain": [
       "Index(['Runs', 'Mins', 'BF', '4s', '6s', 'SR', 'Pos', 'Dismissal', 'Inns',\n",
       "       'Opposition', 'Ground', 'Start Date'],\n",
       "      dtype='object')"
      ]
     },
     "execution_count": 319,
     "metadata": {},
     "output_type": "execute_result"
    }
   ],
   "source": [
    "df.columns"
   ]
  },
  {
   "cell_type": "code",
   "execution_count": 320,
   "id": "7134732d",
   "metadata": {},
   "outputs": [
    {
     "data": {
      "text/plain": [
       "array(['lbw', 'caught', 'run out', 'bowled', 'not out', 'stumped',\n",
       "       'hit wicket'], dtype=object)"
      ]
     },
     "execution_count": 320,
     "metadata": {},
     "output_type": "execute_result"
    }
   ],
   "source": [
    "df[\"Dismissal\"].unique()"
   ]
  },
  {
   "cell_type": "code",
   "execution_count": 342,
   "id": "140abc2d",
   "metadata": {},
   "outputs": [
    {
     "data": {
      "text/plain": [
       "v Sri Lanka       24\n",
       "v England         21\n",
       "v Australia       20\n",
       "v West Indies     19\n",
       "v South Africa    15\n",
       "v New Zealand     14\n",
       "v Bangladesh       8\n",
       "v Zimbabwe         5\n",
       "v Pakistan         4\n",
       "v Ireland          1\n",
       "v Netherlands      1\n",
       "Name: Opposition, dtype: int64"
      ]
     },
     "execution_count": 342,
     "metadata": {},
     "output_type": "execute_result"
    }
   ],
   "source": [
    "df[\"Opposition\"].value_counts()"
   ]
  },
  {
   "cell_type": "code",
   "execution_count": 321,
   "id": "8def8c5f",
   "metadata": {},
   "outputs": [
    {
     "data": {
      "text/plain": [
       "caught        84\n",
       "not out       17\n",
       "run out       10\n",
       "bowled        10\n",
       "lbw            9\n",
       "stumped        1\n",
       "hit wicket     1\n",
       "Name: Dismissal, dtype: int64"
      ]
     },
     "execution_count": 321,
     "metadata": {},
     "output_type": "execute_result"
    }
   ],
   "source": [
    "df[\"Dismissal\"].value_counts()"
   ]
  },
  {
   "cell_type": "code",
   "execution_count": 322,
   "id": "34094b06",
   "metadata": {},
   "outputs": [
    {
     "data": {
      "text/plain": [
       "132"
      ]
     },
     "execution_count": 322,
     "metadata": {},
     "output_type": "execute_result"
    }
   ],
   "source": [
    "dismiss_count=df.value_counts(\"Dismissal\").sum()\n",
    "dismiss_count"
   ]
  },
  {
   "cell_type": "code",
   "execution_count": 323,
   "id": "a4a51e0f",
   "metadata": {},
   "outputs": [
    {
     "data": {
      "text/plain": [
       "115"
      ]
     },
     "execution_count": 323,
     "metadata": {},
     "output_type": "execute_result"
    }
   ],
   "source": [
    "outs =df[\"Dismissal\"].isin(['lbw', 'caught', 'run out', 'bowled', 'stumped',\n",
    "       'hit wicket'])\n",
    "total_outs = outs.sum()\n",
    "total_outs"
   ]
  },
  {
   "cell_type": "code",
   "execution_count": 324,
   "id": "11bc0b0f",
   "metadata": {},
   "outputs": [
    {
     "data": {
      "text/plain": [
       "17"
      ]
     },
     "execution_count": 324,
     "metadata": {},
     "output_type": "execute_result"
    }
   ],
   "source": [
    "df_notout=dismiss_count-total_outs\n",
    "df_notout"
   ]
  },
  {
   "cell_type": "markdown",
   "id": "d082575e",
   "metadata": {},
   "source": [
    "# Creating Calculated Columns (Feature Engineering)"
   ]
  },
  {
   "cell_type": "code",
   "execution_count": 325,
   "id": "90aea467",
   "metadata": {},
   "outputs": [
    {
     "data": {
      "text/plain": [
       "6184"
      ]
     },
     "execution_count": 325,
     "metadata": {},
     "output_type": "execute_result"
    }
   ],
   "source": [
    "Total_runs=df[\"Runs\"].sum()\n",
    "Total_runs"
   ]
  },
  {
   "cell_type": "code",
   "execution_count": 326,
   "id": "6450af84",
   "metadata": {},
   "outputs": [
    {
     "data": {
      "text/plain": [
       "53.77"
      ]
     },
     "execution_count": 326,
     "metadata": {},
     "output_type": "execute_result"
    }
   ],
   "source": [
    "batting_average = round(Total_runs / total_outs, 2)\n",
    "batting_average"
   ]
  },
  {
   "cell_type": "code",
   "execution_count": 327,
   "id": "a231d708",
   "metadata": {},
   "outputs": [
    {
     "data": {
      "text/plain": [
       "0       1\n",
       "1       6\n",
       "2       4\n",
       "3       7\n",
       "4       4\n",
       "       ..\n",
       "127     3\n",
       "128     3\n",
       "129    13\n",
       "130     2\n",
       "131     8\n",
       "Length: 132, dtype: int64"
      ]
     },
     "execution_count": 327,
     "metadata": {},
     "output_type": "execute_result"
    }
   ],
   "source": [
    "df['Boundaries_count']=df[\"4s\"] + df[\"6s\"]\n",
    "Boundaries_count"
   ]
  },
  {
   "cell_type": "code",
   "execution_count": 328,
   "id": "9252341e",
   "metadata": {},
   "outputs": [
    {
     "data": {
      "text/plain": [
       "0       4\n",
       "1      24\n",
       "2      16\n",
       "3      28\n",
       "4      18\n",
       "       ..\n",
       "127    14\n",
       "128    14\n",
       "129    62\n",
       "130     8\n",
       "131    32\n",
       "Length: 132, dtype: int64"
      ]
     },
     "execution_count": 328,
     "metadata": {},
     "output_type": "execute_result"
    }
   ],
   "source": [
    "df['Boundary_runs']=df[\"4s\"]*4 + df[\"6s\"]*6\n",
    "Boundary_runs"
   ]
  },
  {
   "cell_type": "code",
   "execution_count": 329,
   "id": "7f717e94",
   "metadata": {},
   "outputs": [
    {
     "data": {
      "text/plain": [
       "2740"
      ]
     },
     "execution_count": 329,
     "metadata": {},
     "output_type": "execute_result"
    }
   ],
   "source": [
    "Total_boundary_runs=Boundary_runs.sum()\n",
    "Total_boundary_runs"
   ]
  },
  {
   "cell_type": "code",
   "execution_count": 330,
   "id": "1d1ac36c",
   "metadata": {},
   "outputs": [
    {
     "data": {
      "text/plain": [
       "0      22.000000\n",
       "1      11.166667\n",
       "2       9.500000\n",
       "3       9.428571\n",
       "4      11.500000\n",
       "         ...    \n",
       "127    17.000000\n",
       "128    25.333333\n",
       "129     8.076923\n",
       "130     2.500000\n",
       "131     7.875000\n",
       "Length: 132, dtype: float64"
      ]
     },
     "execution_count": 330,
     "metadata": {},
     "output_type": "execute_result"
    }
   ],
   "source": [
    "df['Balls_per_Boundary']=df[\"BF\"]/Boundaries_count\n",
    "Balls_per_Boundary"
   ]
  },
  {
   "cell_type": "code",
   "execution_count": 331,
   "id": "01db911d",
   "metadata": {},
   "outputs": [
    {
     "data": {
      "text/html": [
       "<div>\n",
       "<style scoped>\n",
       "    .dataframe tbody tr th:only-of-type {\n",
       "        vertical-align: middle;\n",
       "    }\n",
       "\n",
       "    .dataframe tbody tr th {\n",
       "        vertical-align: top;\n",
       "    }\n",
       "\n",
       "    .dataframe thead th {\n",
       "        text-align: right;\n",
       "    }\n",
       "</style>\n",
       "<table border=\"1\" class=\"dataframe\">\n",
       "  <thead>\n",
       "    <tr style=\"text-align: right;\">\n",
       "      <th></th>\n",
       "      <th>Runs</th>\n",
       "      <th>Mins</th>\n",
       "      <th>BF</th>\n",
       "      <th>4s</th>\n",
       "      <th>6s</th>\n",
       "      <th>SR</th>\n",
       "      <th>Pos</th>\n",
       "      <th>Dismissal</th>\n",
       "      <th>Inns</th>\n",
       "      <th>Opposition</th>\n",
       "      <th>Ground</th>\n",
       "      <th>Start Date</th>\n",
       "      <th>Boundaries_count</th>\n",
       "      <th>Boundary_runs</th>\n",
       "      <th>Balls_per_Boundary</th>\n",
       "    </tr>\n",
       "  </thead>\n",
       "  <tbody>\n",
       "    <tr>\n",
       "      <th>0</th>\n",
       "      <td>12</td>\n",
       "      <td>33</td>\n",
       "      <td>22</td>\n",
       "      <td>1</td>\n",
       "      <td>0</td>\n",
       "      <td>54.54</td>\n",
       "      <td>2</td>\n",
       "      <td>lbw</td>\n",
       "      <td>1</td>\n",
       "      <td>v Sri Lanka</td>\n",
       "      <td>Dambulla</td>\n",
       "      <td>2008-08-18</td>\n",
       "      <td>1</td>\n",
       "      <td>4</td>\n",
       "      <td>22.000000</td>\n",
       "    </tr>\n",
       "    <tr>\n",
       "      <th>1</th>\n",
       "      <td>37</td>\n",
       "      <td>82</td>\n",
       "      <td>67</td>\n",
       "      <td>6</td>\n",
       "      <td>0</td>\n",
       "      <td>55.22</td>\n",
       "      <td>2</td>\n",
       "      <td>caught</td>\n",
       "      <td>2</td>\n",
       "      <td>v Sri Lanka</td>\n",
       "      <td>Dambulla</td>\n",
       "      <td>2008-08-20</td>\n",
       "      <td>6</td>\n",
       "      <td>24</td>\n",
       "      <td>11.166667</td>\n",
       "    </tr>\n",
       "    <tr>\n",
       "      <th>2</th>\n",
       "      <td>25</td>\n",
       "      <td>40</td>\n",
       "      <td>38</td>\n",
       "      <td>4</td>\n",
       "      <td>0</td>\n",
       "      <td>65.78</td>\n",
       "      <td>1</td>\n",
       "      <td>run out</td>\n",
       "      <td>1</td>\n",
       "      <td>v Sri Lanka</td>\n",
       "      <td>Colombo (RPS)</td>\n",
       "      <td>2008-08-24</td>\n",
       "      <td>4</td>\n",
       "      <td>16</td>\n",
       "      <td>9.500000</td>\n",
       "    </tr>\n",
       "    <tr>\n",
       "      <th>3</th>\n",
       "      <td>54</td>\n",
       "      <td>87</td>\n",
       "      <td>66</td>\n",
       "      <td>7</td>\n",
       "      <td>0</td>\n",
       "      <td>81.81</td>\n",
       "      <td>1</td>\n",
       "      <td>bowled</td>\n",
       "      <td>1</td>\n",
       "      <td>v Sri Lanka</td>\n",
       "      <td>Colombo (RPS)</td>\n",
       "      <td>2008-08-27</td>\n",
       "      <td>7</td>\n",
       "      <td>28</td>\n",
       "      <td>9.428571</td>\n",
       "    </tr>\n",
       "    <tr>\n",
       "      <th>4</th>\n",
       "      <td>31</td>\n",
       "      <td>45</td>\n",
       "      <td>46</td>\n",
       "      <td>3</td>\n",
       "      <td>1</td>\n",
       "      <td>67.39</td>\n",
       "      <td>1</td>\n",
       "      <td>lbw</td>\n",
       "      <td>2</td>\n",
       "      <td>v Sri Lanka</td>\n",
       "      <td>Colombo (RPS)</td>\n",
       "      <td>2008-08-29</td>\n",
       "      <td>4</td>\n",
       "      <td>18</td>\n",
       "      <td>11.500000</td>\n",
       "    </tr>\n",
       "  </tbody>\n",
       "</table>\n",
       "</div>"
      ],
      "text/plain": [
       "   Runs Mins  BF  4s  6s     SR  Pos Dismissal  Inns   Opposition  \\\n",
       "0    12   33  22   1   0  54.54    2       lbw     1  v Sri Lanka   \n",
       "1    37   82  67   6   0  55.22    2    caught     2  v Sri Lanka   \n",
       "2    25   40  38   4   0  65.78    1   run out     1  v Sri Lanka   \n",
       "3    54   87  66   7   0  81.81    1    bowled     1  v Sri Lanka   \n",
       "4    31   45  46   3   1  67.39    1       lbw     2  v Sri Lanka   \n",
       "\n",
       "          Ground Start Date  Boundaries_count  Boundary_runs  \\\n",
       "0       Dambulla 2008-08-18                 1              4   \n",
       "1       Dambulla 2008-08-20                 6             24   \n",
       "2  Colombo (RPS) 2008-08-24                 4             16   \n",
       "3  Colombo (RPS) 2008-08-27                 7             28   \n",
       "4  Colombo (RPS) 2008-08-29                 4             18   \n",
       "\n",
       "   Balls_per_Boundary  \n",
       "0           22.000000  \n",
       "1           11.166667  \n",
       "2            9.500000  \n",
       "3            9.428571  \n",
       "4           11.500000  "
      ]
     },
     "execution_count": 331,
     "metadata": {},
     "output_type": "execute_result"
    }
   ],
   "source": [
    "df.head()"
   ]
  },
  {
   "cell_type": "code",
   "execution_count": 332,
   "id": "8f9f1643",
   "metadata": {},
   "outputs": [
    {
     "data": {
      "text/plain": [
       "Runs                  0\n",
       "Mins                  0\n",
       "BF                    0\n",
       "4s                    0\n",
       "6s                    0\n",
       "SR                    0\n",
       "Pos                   0\n",
       "Dismissal             0\n",
       "Inns                  0\n",
       "Opposition            0\n",
       "Ground                0\n",
       "Start Date            0\n",
       "Boundaries_count      0\n",
       "Boundary_runs         0\n",
       "Balls_per_Boundary    1\n",
       "dtype: int64"
      ]
     },
     "execution_count": 332,
     "metadata": {},
     "output_type": "execute_result"
    }
   ],
   "source": [
    "df.isnull().sum()"
   ]
  },
  {
   "cell_type": "code",
   "execution_count": null,
   "id": "60e734ba",
   "metadata": {},
   "outputs": [],
   "source": []
  },
  {
   "cell_type": "code",
   "execution_count": null,
   "id": "2a955529",
   "metadata": {},
   "outputs": [],
   "source": []
  },
  {
   "cell_type": "code",
   "execution_count": 333,
   "id": "ba4f3bec",
   "metadata": {},
   "outputs": [
    {
     "data": {
      "text/html": [
       "<div>\n",
       "<style scoped>\n",
       "    .dataframe tbody tr th:only-of-type {\n",
       "        vertical-align: middle;\n",
       "    }\n",
       "\n",
       "    .dataframe tbody tr th {\n",
       "        vertical-align: top;\n",
       "    }\n",
       "\n",
       "    .dataframe thead th {\n",
       "        text-align: right;\n",
       "    }\n",
       "</style>\n",
       "<table border=\"1\" class=\"dataframe\">\n",
       "  <thead>\n",
       "    <tr style=\"text-align: right;\">\n",
       "      <th></th>\n",
       "      <th>Opposition</th>\n",
       "      <th>Runs</th>\n",
       "      <th>Inns</th>\n",
       "      <th>SR</th>\n",
       "    </tr>\n",
       "  </thead>\n",
       "  <tbody>\n",
       "    <tr>\n",
       "      <th>8</th>\n",
       "      <td>v Sri Lanka</td>\n",
       "      <td>1084</td>\n",
       "      <td>35</td>\n",
       "      <td>78.992500</td>\n",
       "    </tr>\n",
       "    <tr>\n",
       "      <th>9</th>\n",
       "      <td>v West Indies</td>\n",
       "      <td>1009</td>\n",
       "      <td>29</td>\n",
       "      <td>82.440526</td>\n",
       "    </tr>\n",
       "    <tr>\n",
       "      <th>0</th>\n",
       "      <td>v Australia</td>\n",
       "      <td>999</td>\n",
       "      <td>34</td>\n",
       "      <td>82.615500</td>\n",
       "    </tr>\n",
       "    <tr>\n",
       "      <th>5</th>\n",
       "      <td>v New Zealand</td>\n",
       "      <td>877</td>\n",
       "      <td>25</td>\n",
       "      <td>80.170714</td>\n",
       "    </tr>\n",
       "    <tr>\n",
       "      <th>2</th>\n",
       "      <td>v England</td>\n",
       "      <td>830</td>\n",
       "      <td>32</td>\n",
       "      <td>76.599048</td>\n",
       "    </tr>\n",
       "    <tr>\n",
       "      <th>7</th>\n",
       "      <td>v South Africa</td>\n",
       "      <td>558</td>\n",
       "      <td>25</td>\n",
       "      <td>68.557333</td>\n",
       "    </tr>\n",
       "    <tr>\n",
       "      <th>1</th>\n",
       "      <td>v Bangladesh</td>\n",
       "      <td>544</td>\n",
       "      <td>12</td>\n",
       "      <td>86.325000</td>\n",
       "    </tr>\n",
       "    <tr>\n",
       "      <th>10</th>\n",
       "      <td>v Zimbabwe</td>\n",
       "      <td>215</td>\n",
       "      <td>7</td>\n",
       "      <td>80.772000</td>\n",
       "    </tr>\n",
       "    <tr>\n",
       "      <th>3</th>\n",
       "      <td>v Ireland</td>\n",
       "      <td>34</td>\n",
       "      <td>2</td>\n",
       "      <td>64.150000</td>\n",
       "    </tr>\n",
       "    <tr>\n",
       "      <th>6</th>\n",
       "      <td>v Pakistan</td>\n",
       "      <td>22</td>\n",
       "      <td>5</td>\n",
       "      <td>37.670000</td>\n",
       "    </tr>\n",
       "    <tr>\n",
       "      <th>4</th>\n",
       "      <td>v Netherlands</td>\n",
       "      <td>12</td>\n",
       "      <td>2</td>\n",
       "      <td>60.000000</td>\n",
       "    </tr>\n",
       "  </tbody>\n",
       "</table>\n",
       "</div>"
      ],
      "text/plain": [
       "        Opposition  Runs  Inns         SR\n",
       "8      v Sri Lanka  1084    35  78.992500\n",
       "9    v West Indies  1009    29  82.440526\n",
       "0      v Australia   999    34  82.615500\n",
       "5    v New Zealand   877    25  80.170714\n",
       "2        v England   830    32  76.599048\n",
       "7   v South Africa   558    25  68.557333\n",
       "1     v Bangladesh   544    12  86.325000\n",
       "10      v Zimbabwe   215     7  80.772000\n",
       "3        v Ireland    34     2  64.150000\n",
       "6       v Pakistan    22     5  37.670000\n",
       "4    v Netherlands    12     2  60.000000"
      ]
     },
     "execution_count": 333,
     "metadata": {},
     "output_type": "execute_result"
    }
   ],
   "source": [
    "df.groupby(\"Opposition\").agg({'Runs': 'sum','Inns': 'sum', 'SR': 'mean'}).reset_index().sort_values(by=\"Runs\",ascending=False)"
   ]
  },
  {
   "cell_type": "code",
   "execution_count": 334,
   "id": "22c28109",
   "metadata": {},
   "outputs": [
    {
     "data": {
      "text/plain": [
       "Opposition\n",
       "v Sri Lanka       24\n",
       "v England         21\n",
       "v Australia       20\n",
       "v West Indies     19\n",
       "v South Africa    15\n",
       "v New Zealand     14\n",
       "v Bangladesh       8\n",
       "v Zimbabwe         5\n",
       "v Pakistan         4\n",
       "v Ireland          1\n",
       "v Netherlands      1\n",
       "Name: Dismissal, dtype: int64"
      ]
     },
     "execution_count": 334,
     "metadata": {},
     "output_type": "execute_result"
    }
   ],
   "source": [
    "df.groupby(\"Opposition\")[\"Dismissal\"].count().sort_values(ascending=False)"
   ]
  },
  {
   "cell_type": "code",
   "execution_count": 335,
   "id": "1e06d659",
   "metadata": {},
   "outputs": [
    {
     "data": {
      "text/html": [
       "<div>\n",
       "<style scoped>\n",
       "    .dataframe tbody tr th:only-of-type {\n",
       "        vertical-align: middle;\n",
       "    }\n",
       "\n",
       "    .dataframe tbody tr th {\n",
       "        vertical-align: top;\n",
       "    }\n",
       "\n",
       "    .dataframe thead th {\n",
       "        text-align: right;\n",
       "    }\n",
       "</style>\n",
       "<table border=\"1\" class=\"dataframe\">\n",
       "  <thead>\n",
       "    <tr style=\"text-align: right;\">\n",
       "      <th></th>\n",
       "      <th>Boundaries_count</th>\n",
       "      <th>Boundary_runs</th>\n",
       "    </tr>\n",
       "    <tr>\n",
       "      <th>Opposition</th>\n",
       "      <th></th>\n",
       "      <th></th>\n",
       "    </tr>\n",
       "  </thead>\n",
       "  <tbody>\n",
       "    <tr>\n",
       "      <th>v Sri Lanka</th>\n",
       "      <td>117</td>\n",
       "      <td>486</td>\n",
       "    </tr>\n",
       "    <tr>\n",
       "      <th>v Australia</th>\n",
       "      <td>108</td>\n",
       "      <td>458</td>\n",
       "    </tr>\n",
       "    <tr>\n",
       "      <th>v West Indies</th>\n",
       "      <td>108</td>\n",
       "      <td>450</td>\n",
       "    </tr>\n",
       "    <tr>\n",
       "      <th>v England</th>\n",
       "      <td>92</td>\n",
       "      <td>390</td>\n",
       "    </tr>\n",
       "    <tr>\n",
       "      <th>v New Zealand</th>\n",
       "      <td>92</td>\n",
       "      <td>394</td>\n",
       "    </tr>\n",
       "    <tr>\n",
       "      <th>v Bangladesh</th>\n",
       "      <td>56</td>\n",
       "      <td>234</td>\n",
       "    </tr>\n",
       "    <tr>\n",
       "      <th>v South Africa</th>\n",
       "      <td>46</td>\n",
       "      <td>204</td>\n",
       "    </tr>\n",
       "    <tr>\n",
       "      <th>v Zimbabwe</th>\n",
       "      <td>23</td>\n",
       "      <td>96</td>\n",
       "    </tr>\n",
       "    <tr>\n",
       "      <th>v Ireland</th>\n",
       "      <td>3</td>\n",
       "      <td>12</td>\n",
       "    </tr>\n",
       "    <tr>\n",
       "      <th>v Netherlands</th>\n",
       "      <td>2</td>\n",
       "      <td>8</td>\n",
       "    </tr>\n",
       "    <tr>\n",
       "      <th>v Pakistan</th>\n",
       "      <td>2</td>\n",
       "      <td>8</td>\n",
       "    </tr>\n",
       "  </tbody>\n",
       "</table>\n",
       "</div>"
      ],
      "text/plain": [
       "                Boundaries_count  Boundary_runs\n",
       "Opposition                                     \n",
       "v Sri Lanka                  117            486\n",
       "v Australia                  108            458\n",
       "v West Indies                108            450\n",
       "v England                     92            390\n",
       "v New Zealand                 92            394\n",
       "v Bangladesh                  56            234\n",
       "v South Africa                46            204\n",
       "v Zimbabwe                    23             96\n",
       "v Ireland                      3             12\n",
       "v Netherlands                  2              8\n",
       "v Pakistan                     2              8"
      ]
     },
     "execution_count": 335,
     "metadata": {},
     "output_type": "execute_result"
    }
   ],
   "source": [
    "df.groupby(\"Opposition\")[[\"Boundaries_count\",\"Boundary_runs\"]].sum().sort_values(by=\"Boundaries_count\", ascending=False)"
   ]
  },
  {
   "cell_type": "markdown",
   "id": "8b7209f7",
   "metadata": {},
   "source": [
    "# VISUALIZATION ON PERFORMANCE"
   ]
  },
  {
   "cell_type": "code",
   "execution_count": 336,
   "id": "0bcbab1e",
   "metadata": {},
   "outputs": [
    {
     "data": {
      "image/png": "[encoded data removed]",
      "text/plain": [
       "<Figure size 1800x900 with 1 Axes>"
      ]
     },
     "metadata": {},
     "output_type": "display_data"
    }
   ],
   "source": [
    "runs_per_ground_df = df.groupby(\"Ground\").sum()\n",
    "runs_per_ground_df = runs_per_ground_df.sort_values(by=\"Runs\", ascending = False)\n",
    "runs_per_ground_df.plot(figsize = (18,9), kind = \"bar\", y = \"Runs\")\n",
    "\n",
    "\n",
    "plt.title(\"V Kohli runs per ground\")\n",
    "plt.show()"
   ]
  },
  {
   "cell_type": "code",
   "execution_count": 337,
   "id": "c0a9cf38",
   "metadata": {},
   "outputs": [
    {
     "data": {
      "text/plain": [
       "Text(0.5, 1.0, 'Runs At Position')"
      ]
     },
     "execution_count": 337,
     "metadata": {},
     "output_type": "execute_result"
    },
    {
     "data": {
      "image/png": "[encoded data removed]",
      "text/plain": [
       "<Figure size 640x480 with 1 Axes>"
      ]
     },
     "metadata": {},
     "output_type": "display_data"
    }
   ],
   "source": [
    "sns.scatterplot(data=df,x=\"Runs\",y=\"Pos\")\n",
    "plt.title(\"Runs At Position\")"
   ]
  },
  {
   "cell_type": "code",
   "execution_count": 338,
   "id": "304014b0",
   "metadata": {},
   "outputs": [
    {
     "data": {
      "image/png": "[encoded data removed]",
      "text/plain": [
       "<Figure size 640x480 with 1 Axes>"
      ]
     },
     "metadata": {},
     "output_type": "display_data"
    }
   ],
   "source": [
    "dismissal_distribution = df['Dismissal'].value_counts()\n",
    "dismissal_distribution.plot(kind='pie', autopct='%1.1f%%')\n",
    "plt.title('Dismissal Type Distribution')\n",
    "plt.show()"
   ]
  },
  {
   "cell_type": "code",
   "execution_count": 339,
   "id": "d38f32c6",
   "metadata": {},
   "outputs": [
    {
     "data": {
      "image/png": "[encoded data removed]",
      "text/plain": [
       "<Figure size 640x480 with 1 Axes>"
      ]
     },
     "metadata": {},
     "output_type": "display_data"
    }
   ],
   "source": [
    "df.plot(x='Start Date', y='SR', kind='line')\n",
    "plt.xlabel('Start Date')\n",
    "plt.ylabel('Strike Rate')\n",
    "plt.title('Strike Rate over Time')\n",
    "plt.xticks(rotation=90)\n",
    "plt.show()"
   ]
  },
  {
   "cell_type": "markdown",
   "id": "eaafc079",
   "metadata": {},
   "source": [
    "# INSIGHTS BASED ON DATA PROVIDED :\n"
   ]
  },
  {
   "cell_type": "code",
   "execution_count": null,
   "id": "fb6f9341",
   "metadata": {},
   "outputs": [],
   "source": [
    "# Matches Played And Opposition Analysis:\n",
    "#Virat Kohli played 132 matches against 11 countries.\n",
    "#Majority of matches played against Sri Lanka, England, Australia, And West Indies.\n",
    "\n",
    "#Batting Record:\n",
    "#Kohli's total runs: 6184.\n",
    "#Batting average: 53.77.\n",
    "#Dismissed 115 times in 132 matches.\n",
    "\n",
    "#Boundary Mastery:\n",
    "#Kohli scored 2740 runs through boundaries.\n",
    "\n",
    "#Exceptional performances against Sri Lanka, West Indies, Australia, New Zealand, and England.\n",
    "#Maintaining good strike rate (>75) against these teams.\n",
    "\n",
    "#Preferred Grounds:\n",
    "#Kohli excelled on grounds like Dhaka, Visakhapatnam, Mohali, Chennai, Colombo, and Ranchi.\n",
    "\n",
    "#Batting Success at No.3:\n",
    "#Kohli performed exceptionally well batting at position number 3, demonstrating proficiency in this crucial spot in the lineup.\n",
    "\n",
    "#Dismissal Patterns:\n",
    "#Most dismissals by being caught out.\n",
    "\n",
    "#performance over the years:\n",
    "#In 2012, a phenomenalstrike rate of 200.\n",
    "#Consistent strike rate (>125) since 2016."
   ]
  }
 ],
 "metadata": {
  "kernelspec": {
   "display_name": "Python 3 (ipykernel)",
   "language": "python",
   "name": "python3"
  },
  "language_info": {
   "codemirror_mode": {
    "name": "ipython",
    "version": 3
   },
   "file_extension": ".py",
   "mimetype": "text/x-python",
   "name": "python",
   "nbconvert_exporter": "python",
   "pygments_lexer": "ipython3",
   "version": "3.9.13"
  }
 },
 "nbformat": 4,
 "nbformat_minor": 5
}
